{
 "cells": [
  {
   "cell_type": "code",
   "execution_count": 1,
   "id": "39e13ae4",
   "metadata": {},
   "outputs": [
    {
     "name": "stdout",
     "output_type": "stream",
     "text": [
      "Saved Final.csv\n"
     ]
    }
   ],
   "source": [
    "import os\n",
    "import pandas as pd\n",
    "\n",
    "BASE_DIR = \"output_csv\"\n",
    "sample_df = pd.read_csv(\"Sample.csv\")\n",
    "sample_cols = sample_df.columns.tolist()\n",
    "\n",
    "# Remove metadata columns from column matching\n",
    "metadata_cols = [\"Year\", \"Region\", \"Province\", \"Municipality\"]\n",
    "data_cols = [col for col in sample_cols if col not in metadata_cols]\n",
    "\n",
    "all_data = []\n",
    "\n",
    "for year in os.listdir(BASE_DIR):\n",
    "    year_path = os.path.join(BASE_DIR, year)\n",
    "    if not os.path.isdir(year_path):\n",
    "        continue\n",
    "\n",
    "    for region in os.listdir(year_path):\n",
    "        region_path = os.path.join(year_path, region)\n",
    "        if not os.path.isdir(region_path):\n",
    "            continue\n",
    "\n",
    "        for province in os.listdir(region_path):\n",
    "            province_path = os.path.join(region_path, province)\n",
    "            if not os.path.isdir(province_path):\n",
    "                continue\n",
    "\n",
    "            for municipality in os.listdir(province_path):\n",
    "                mun_path = os.path.join(province_path, municipality)\n",
    "                if not os.path.isdir(mun_path):\n",
    "                    continue\n",
    "\n",
    "                csv_name = f\"{municipality}.csv\"\n",
    "                csv_path = os.path.join(mun_path, csv_name)\n",
    "\n",
    "                if os.path.exists(csv_path):\n",
    "                    try:\n",
    "                        df = pd.read_csv(csv_path)\n",
    "\n",
    "                        # Keep only expected columns, ignore extras\n",
    "                        df = df[[col for col in data_cols if col in df.columns]]\n",
    "\n",
    "                        # Add folder-derived metadata\n",
    "                        df[\"Year\"] = year\n",
    "                        df[\"Region\"] = region\n",
    "                        df[\"Province\"] = province\n",
    "                        df[\"Municipality\"] = municipality\n",
    "\n",
    "                        # Reorder columns to match Sample.csv\n",
    "                        df = df[sample_cols]\n",
    "\n",
    "                        all_data.append(df)\n",
    "                    except Exception as e:\n",
    "                        print(f\"Failed to read {csv_path}: {e}\")\n",
    "\n",
    "final_df = pd.concat(all_data, ignore_index=True)\n",
    "# Drop rows where Ownership is 'TOTAL' (case-sensitive match)\n",
    "final_df = final_df[final_df[\"Ownership\"] != \"TOTAL\"]\n",
    "final_df.to_csv(\"Final.csv\", index=False)\n",
    "print(\"Saved Final.csv\")\n"
   ]
  },
  {
   "cell_type": "code",
   "execution_count": 2,
   "id": "3400fc07",
   "metadata": {},
   "outputs": [
    {
     "name": "stdout",
     "output_type": "stream",
     "text": [
      "Saved Final_cleaned.csv\n"
     ]
    }
   ],
   "source": [
    "import pandas as pd\n",
    "import re\n",
    "\n",
    "# Read the CSV\n",
    "df = pd.read_csv(\"Final.csv\")\n",
    "\n",
    "# Function to clean Region, Province, Municipality\n",
    "def clean_name(val, is_region=False):\n",
    "    if pd.isna(val):\n",
    "        return val\n",
    "    if is_region:\n",
    "        val = re.sub(r'^\\d{2}_-_', '', val)  # Remove 'XX_-_' from start\n",
    "    return val.replace('_', ' ')\n",
    "\n",
    "# Apply transformations\n",
    "df[\"Region\"] = df[\"Region\"].apply(lambda x: clean_name(x, is_region=True))\n",
    "df[\"Province\"] = df[\"Province\"].apply(clean_name)\n",
    "df[\"Municipality\"] = df[\"Municipality\"].apply(clean_name)\n",
    "\n",
    "# Save cleaned version if needed\n",
    "df.to_csv(\"Final_cleaned.csv\", index=False)\n",
    "print(\"Saved Final_cleaned.csv\")\n"
   ]
  }
 ],
 "metadata": {
  "kernelspec": {
   "display_name": "3.13.2",
   "language": "python",
   "name": "python3"
  },
  "language_info": {
   "codemirror_mode": {
    "name": "ipython",
    "version": 3
   },
   "file_extension": ".py",
   "mimetype": "text/x-python",
   "name": "python",
   "nbconvert_exporter": "python",
   "pygments_lexer": "ipython3",
   "version": "3.13.2"
  }
 },
 "nbformat": 4,
 "nbformat_minor": 5
}
